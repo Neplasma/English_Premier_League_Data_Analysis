{
 "cells": [
  {
   "cell_type": "markdown",
   "id": "03f558d0",
   "metadata": {},
   "source": [
    "# SQL with Python Tutorial\n",
    "## link: https://www.youtube.com/watch?v=zrNHkRgWzTI"
   ]
  },
  {
   "cell_type": "code",
   "execution_count": 1,
   "id": "ee3b73ec",
   "metadata": {},
   "outputs": [],
   "source": [
    "# import libraries\n",
    "\n",
    "import mysql.connector\n",
    "from mysql.connector import Error\n",
    "import pandas as pd"
   ]
  },
  {
   "cell_type": "code",
   "execution_count": 2,
   "id": "50ccf5c1",
   "metadata": {},
   "outputs": [
    {
     "name": "stdout",
     "output_type": "stream",
     "text": [
      "MySQL Database connection successful.\n"
     ]
    }
   ],
   "source": [
    "def create_server_connection(host_name, user_name, user_password):\n",
    "    connection = None\n",
    "    try:\n",
    "        connection = mysql.connector.connect(\n",
    "            host = host_name,\n",
    "            user = user_name,\n",
    "            passwd = user_password\n",
    "        )\n",
    "        print('MySQL Database connection successful.')\n",
    "    except Error as err:\n",
    "        print(f\"Error:'{err}'\")\n",
    "    return connection\n",
    "\n",
    "# Put our MySQL Terminal password\n",
    "\n",
    "pw = 'Niyuanmike1'\n",
    "\n",
    "# Database name\n",
    "db = 'Nep_SQL_python'\n",
    "connection = create_server_connection('localhost', 'root', pw)"
   ]
  },
  {
   "cell_type": "code",
   "execution_count": 4,
   "id": "9b65beb0",
   "metadata": {},
   "outputs": [
    {
     "name": "stdout",
     "output_type": "stream",
     "text": [
      "Error: '1007 (HY000): Can't create database 'nep_sql_python'; database exists'\n"
     ]
    }
   ],
   "source": [
    "# Create Database 'Nep_SQL_python'\n",
    "\n",
    "def create_database(connection, query):\n",
    "    cursor = connection.cursor()\n",
    "    try:\n",
    "        cursor.execute(query)\n",
    "        print('Database create successfully.')\n",
    "    except Error as err:\n",
    "        print(f\"Error: '{err}'\")\n",
    "\n",
    "create_database_query = 'Create database Nep_SQL_python'\n",
    "create_database(connection, create_database_query)"
   ]
  },
  {
   "cell_type": "code",
   "execution_count": 3,
   "id": "7561fd0d-1995-44ef-a261-c679dc0b42e8",
   "metadata": {},
   "outputs": [],
   "source": [
    "# function for Connect to Database\n",
    "\n",
    "def create_db_connection(host_name, user_name, user_password, db_name):\n",
    "    connection = None\n",
    "    try:\n",
    "        connection = mysql.connector.connect(\n",
    "            host = host_name,\n",
    "            user = user_name,\n",
    "            passwd = user_password,\n",
    "            database = db_name\n",
    "        )\n",
    "        print('MySQL database connection successfull')\n",
    "    except Error as err:\n",
    "        print(f\"Error: '{err}'\")\n",
    "    return connection"
   ]
  },
  {
   "cell_type": "code",
   "execution_count": 4,
   "id": "1fbaa29f-0734-43bf-bcb9-db6137a1c52a",
   "metadata": {},
   "outputs": [],
   "source": [
    "# function for Execute SQL queries\n",
    "\n",
    "def execute_query(connection, query):\n",
    "    cursor = connection.cursor()\n",
    "    try:\n",
    "        cursor.execute(query)\n",
    "        connection.commit()\n",
    "        print('Query was executed successfully')\n",
    "    except Error as err:\n",
    "        print(f\"Error: '{err}'\")"
   ]
  },
  {
   "cell_type": "code",
   "execution_count": 14,
   "id": "c2f95189-49d8-4d67-b30f-ddd9fb2f353a",
   "metadata": {},
   "outputs": [
    {
     "name": "stdout",
     "output_type": "stream",
     "text": [
      "MySQL database connection successfull\n",
      "Error: '1050 (42S01): Table 'orders' already exists'\n"
     ]
    }
   ],
   "source": [
    "# create table in database\n",
    "\n",
    "create_orders_table = '''\n",
    "create table orders(\n",
    "order_id INT PRIMARY KEY,\n",
    "customer_name VARCHAR(30) NOT NULL,\n",
    "product_name VARCHAR(20) NOT NULL,\n",
    "date_ordered DATE,\n",
    "quantity INT,\n",
    "unit_price FLOAT,\n",
    "phone_number VARCHAR(20));\n",
    "'''\n",
    "\n",
    "# connect to the database\n",
    "connection = create_db_connection('localhost', 'root', pw, db)\n",
    "execute_query(connection, create_orders_table)"
   ]
  },
  {
   "cell_type": "code",
   "execution_count": 7,
   "id": "f43123f0-cfa9-4ea8-b59d-0b0a3ea3bc7c",
   "metadata": {},
   "outputs": [
    {
     "name": "stdout",
     "output_type": "stream",
     "text": [
      "MySQL database connection successfull\n",
      "Query was executed successfully\n"
     ]
    }
   ],
   "source": [
    "# Insert data\n",
    "\n",
    "data_orders = '''\n",
    "INSERT INTO orders VALUES \n",
    "(101, 'Steve', 'Labptop', '2021-11-17', 2, 800, '6238728802'),\n",
    "(102, 'John', 'Books', '2021-11-18', 5, 40, '345345345'),\n",
    "(103, 'Mike', 'Trousers', '2021-10-15', 6, 25, '672527965852'),\n",
    "(104, 'Danny', 'T-shirt', '2020-11-16', 7, 15, '25385454'),\n",
    "(105, 'Nancy', 'Mobile Phone', '2021-09-13', 13, 400, '49698574');\n",
    "'''\n",
    "connection = create_db_connection('localhost', 'root', pw, db)\n",
    "execute_query(connection, data_orders)"
   ]
  },
  {
   "cell_type": "code",
   "execution_count": 8,
   "id": "7d8891cf-7fe7-4329-b1b6-71833f6ee059",
   "metadata": {},
   "outputs": [],
   "source": [
    "# read query\n",
    "\n",
    "def read_query(connection, query):\n",
    "    cursor = connection.cursor()\n",
    "    result = None\n",
    "    try:\n",
    "        cursor.execute(query)\n",
    "        result = cursor.fetchall()\n",
    "        return result\n",
    "    except Error as err:\n",
    "        print(f\"Error: '{err}'\")"
   ]
  },
  {
   "cell_type": "code",
   "execution_count": 9,
   "id": "89cc0f25-8e92-4d9c-a33d-5ae9d54d3adf",
   "metadata": {},
   "outputs": [
    {
     "name": "stdout",
     "output_type": "stream",
     "text": [
      "MySQL database connection successfull\n",
      "(101, 'Steve', 'Labptop', datetime.date(2021, 11, 17), 2, 800.0, '6238728802')\n",
      "(102, 'John', 'Books', datetime.date(2021, 11, 18), 5, 40.0, '345345345')\n",
      "(103, 'Mike', 'Trousers', datetime.date(2021, 10, 15), 6, 25.0, '672527965852')\n",
      "(104, 'Danny', 'T-shirt', datetime.date(2020, 11, 16), 7, 15.0, '25385454')\n",
      "(105, 'Nancy', 'Mobile Phone', datetime.date(2021, 9, 13), 13, 400.0, '49698574')\n"
     ]
    }
   ],
   "source": [
    "# Using the SELECT statement\n",
    "\n",
    "q1 = '''\n",
    "SELECT * FROM orders;\n",
    "'''\n",
    "\n",
    "connection = create_db_connection('localhost', 'root', pw, db)\n",
    "results = read_query(connection, q1)\n",
    "for result in results:\n",
    "    print(result)"
   ]
  },
  {
   "cell_type": "code",
   "execution_count": 10,
   "id": "50daa6f6-52cd-4d23-a3af-b3c0a896a4fd",
   "metadata": {},
   "outputs": [
    {
     "name": "stdout",
     "output_type": "stream",
     "text": [
      "MySQL database connection successfull\n",
      "('Steve', '6238728802')\n",
      "('John', '345345345')\n",
      "('Mike', '672527965852')\n",
      "('Danny', '25385454')\n",
      "('Nancy', '49698574')\n"
     ]
    }
   ],
   "source": [
    "q2 = '''\n",
    "SELECT customer_name, phone_number FROM orders;\n",
    "'''\n",
    "\n",
    "connection = create_db_connection('localhost', 'root', pw, db)\n",
    "results = read_query(connection, q2)\n",
    "for result in results:\n",
    "    print(result)"
   ]
  },
  {
   "cell_type": "code",
   "execution_count": 12,
   "id": "fe0e7293-e11e-4807-8ea7-7692f9d01020",
   "metadata": {},
   "outputs": [
    {
     "data": {
      "text/plain": [
       "[('Steve', '6238728802'),\n",
       " ('John', '345345345'),\n",
       " ('Mike', '672527965852'),\n",
       " ('Danny', '25385454'),\n",
       " ('Nancy', '49698574')]"
      ]
     },
     "execution_count": 12,
     "metadata": {},
     "output_type": "execute_result"
    }
   ],
   "source": [
    "results"
   ]
  },
  {
   "cell_type": "code",
   "execution_count": 17,
   "id": "b2726317-0e4f-4724-b3b1-04b29f3b2109",
   "metadata": {},
   "outputs": [
    {
     "name": "stdout",
     "output_type": "stream",
     "text": [
      "MySQL database connection successfull\n",
      "Error: '1054 (42S22): Unknown column 'data_ordered' in 'orders''\n"
     ]
    }
   ],
   "source": [
    "# how to rename columns\n",
    "q3 = '''\n",
    "ALTER TABLE orders RENAME COLUMN data_ordered TO date_ordered;\n",
    "'''\n",
    "\n",
    "connection = create_db_connection('localhost', 'root', pw, db)\n",
    "results = read_query(connection, q3)"
   ]
  },
  {
   "cell_type": "code",
   "execution_count": 19,
   "id": "e67600e1-cbad-4ca6-9f23-f0eef5c83f54",
   "metadata": {},
   "outputs": [
    {
     "name": "stdout",
     "output_type": "stream",
     "text": [
      "MySQL database connection successfull\n",
      "(2021,)\n",
      "(2021,)\n",
      "(2021,)\n",
      "(2020,)\n",
      "(2021,)\n"
     ]
    }
   ],
   "source": [
    "q4 = '''\n",
    "SELECT year(date_ordered) FROM orders;\n",
    "'''\n",
    "\n",
    "connection = create_db_connection('localhost', 'root', pw, db)\n",
    "results = read_query(connection, q4)\n",
    "for result in results:\n",
    "    print(result)"
   ]
  },
  {
   "cell_type": "code",
   "execution_count": 20,
   "id": "47b7f312-f221-4e05-b97d-28e6f68e3aa7",
   "metadata": {},
   "outputs": [
    {
     "name": "stdout",
     "output_type": "stream",
     "text": [
      "MySQL database connection successfull\n",
      "(2021,)\n",
      "(2020,)\n"
     ]
    }
   ],
   "source": [
    "# use distinct to select non-repetitive values\n",
    "q5 = '''\n",
    "SELECT distinct year(date_ordered) FROM orders;\n",
    "'''\n",
    "\n",
    "connection = create_db_connection('localhost', 'root', pw, db)\n",
    "results = read_query(connection, q5)\n",
    "for result in results:\n",
    "    print(result)"
   ]
  },
  {
   "cell_type": "code",
   "execution_count": 21,
   "id": "e9ea6ab3-0430-49c0-b496-bf1f14f45d77",
   "metadata": {},
   "outputs": [
    {
     "name": "stdout",
     "output_type": "stream",
     "text": [
      "MySQL database connection successfull\n",
      "(104, 'Danny', 'T-shirt', datetime.date(2020, 11, 16), 7, 15.0, '25385454')\n",
      "(105, 'Nancy', 'Mobile Phone', datetime.date(2021, 9, 13), 13, 400.0, '49698574')\n"
     ]
    }
   ],
   "source": [
    "q6 = '''\n",
    "SELECT * FROM orders WHERE date_ordered < '2021-10-01';\n",
    "'''\n",
    "\n",
    "connection = create_db_connection('localhost', 'root', pw, db)\n",
    "results = read_query(connection, q6)\n",
    "for result in results:\n",
    "    print(result)"
   ]
  },
  {
   "cell_type": "code",
   "execution_count": 23,
   "id": "3cad899f-1fbb-4f33-9c3b-7aee30b3c503",
   "metadata": {},
   "outputs": [
    {
     "name": "stdout",
     "output_type": "stream",
     "text": [
      "MySQL database connection successfull\n",
      "(101, 'Steve', 'Labptop', datetime.date(2021, 11, 17), 2, 800.0, '6238728802')\n",
      "(105, 'Nancy', 'Mobile Phone', datetime.date(2021, 9, 13), 13, 400.0, '49698574')\n",
      "(102, 'John', 'Books', datetime.date(2021, 11, 18), 5, 40.0, '345345345')\n",
      "(103, 'Mike', 'Trousers', datetime.date(2021, 10, 15), 6, 25.0, '672527965852')\n",
      "(104, 'Danny', 'T-shirt', datetime.date(2020, 11, 16), 7, 15.0, '25385454')\n"
     ]
    }
   ],
   "source": [
    "q7 = '''\n",
    "SELECT * FROM orders ORDER BY unit_price DESC;\n",
    "'''\n",
    "\n",
    "connection = create_db_connection('localhost', 'root', pw, db)\n",
    "results = read_query(connection, q7)\n",
    "for result in results:\n",
    "    print(result)"
   ]
  },
  {
   "cell_type": "code",
   "execution_count": 27,
   "id": "4237bcdf-a342-4d6b-97e8-f6457bf55fd7",
   "metadata": {},
   "outputs": [
    {
     "data": {
      "text/html": [
       "<div>\n",
       "<style scoped>\n",
       "    .dataframe tbody tr th:only-of-type {\n",
       "        vertical-align: middle;\n",
       "    }\n",
       "\n",
       "    .dataframe tbody tr th {\n",
       "        vertical-align: top;\n",
       "    }\n",
       "\n",
       "    .dataframe thead th {\n",
       "        text-align: right;\n",
       "    }\n",
       "</style>\n",
       "<table border=\"1\" class=\"dataframe\">\n",
       "  <thead>\n",
       "    <tr style=\"text-align: right;\">\n",
       "      <th></th>\n",
       "      <th>order_id</th>\n",
       "      <th>customer_name</th>\n",
       "      <th>product_name</th>\n",
       "      <th>date_ordered</th>\n",
       "      <th>quantity</th>\n",
       "      <th>unit_price</th>\n",
       "      <th>phone_number</th>\n",
       "    </tr>\n",
       "  </thead>\n",
       "  <tbody>\n",
       "    <tr>\n",
       "      <th>0</th>\n",
       "      <td>101</td>\n",
       "      <td>Steve</td>\n",
       "      <td>Labptop</td>\n",
       "      <td>2021-11-17</td>\n",
       "      <td>2</td>\n",
       "      <td>800.0</td>\n",
       "      <td>6238728802</td>\n",
       "    </tr>\n",
       "    <tr>\n",
       "      <th>1</th>\n",
       "      <td>105</td>\n",
       "      <td>Nancy</td>\n",
       "      <td>Mobile Phone</td>\n",
       "      <td>2021-09-13</td>\n",
       "      <td>13</td>\n",
       "      <td>400.0</td>\n",
       "      <td>49698574</td>\n",
       "    </tr>\n",
       "    <tr>\n",
       "      <th>2</th>\n",
       "      <td>102</td>\n",
       "      <td>John</td>\n",
       "      <td>Books</td>\n",
       "      <td>2021-11-18</td>\n",
       "      <td>5</td>\n",
       "      <td>40.0</td>\n",
       "      <td>345345345</td>\n",
       "    </tr>\n",
       "    <tr>\n",
       "      <th>3</th>\n",
       "      <td>103</td>\n",
       "      <td>Mike</td>\n",
       "      <td>Trousers</td>\n",
       "      <td>2021-10-15</td>\n",
       "      <td>6</td>\n",
       "      <td>25.0</td>\n",
       "      <td>672527965852</td>\n",
       "    </tr>\n",
       "    <tr>\n",
       "      <th>4</th>\n",
       "      <td>104</td>\n",
       "      <td>Danny</td>\n",
       "      <td>T-shirt</td>\n",
       "      <td>2020-11-16</td>\n",
       "      <td>7</td>\n",
       "      <td>15.0</td>\n",
       "      <td>25385454</td>\n",
       "    </tr>\n",
       "  </tbody>\n",
       "</table>\n",
       "</div>"
      ],
      "text/plain": [
       "   order_id customer_name  product_name date_ordered  quantity  unit_price  \\\n",
       "0       101         Steve       Labptop   2021-11-17         2       800.0   \n",
       "1       105         Nancy  Mobile Phone   2021-09-13        13       400.0   \n",
       "2       102          John         Books   2021-11-18         5        40.0   \n",
       "3       103          Mike      Trousers   2021-10-15         6        25.0   \n",
       "4       104         Danny       T-shirt   2020-11-16         7        15.0   \n",
       "\n",
       "   phone_number  \n",
       "0    6238728802  \n",
       "1      49698574  \n",
       "2     345345345  \n",
       "3  672527965852  \n",
       "4      25385454  "
      ]
     },
     "metadata": {},
     "output_type": "display_data"
    }
   ],
   "source": [
    "# how to display table using pandas\n",
    "\n",
    "from_db = []\n",
    "\n",
    "for result in results:\n",
    "    result = list(result)\n",
    "    from_db.append(result)\n",
    "\n",
    "columns = ['order_id',\n",
    "'customer_name',\n",
    "'product_name',\n",
    "'date_ordered',\n",
    "'quantity',\n",
    "'unit_price',\n",
    "'phone_number']\n",
    "\n",
    "df = pd.DataFrame(from_db, columns = columns)\n",
    "\n",
    "display(df)"
   ]
  },
  {
   "cell_type": "code",
   "execution_count": 29,
   "id": "3c780a38-9f4c-4dbf-86c3-375f3f45288d",
   "metadata": {},
   "outputs": [
    {
     "name": "stdout",
     "output_type": "stream",
     "text": [
      "MySQL database connection successfull\n",
      "Query was executed successfully\n"
     ]
    }
   ],
   "source": [
    "# Update command\n",
    "\n",
    "update = '''\n",
    "UPDATE orders\n",
    "SET unit_price = 45\n",
    "WHERE order_id = 103\n",
    "'''\n",
    "\n",
    "connection = create_db_connection('localhost', 'root', pw, db)\n",
    "execute_query(connection, update)\n"
   ]
  },
  {
   "cell_type": "code",
   "execution_count": 30,
   "id": "875bfd01-9772-41b8-8298-da702c6d70b5",
   "metadata": {},
   "outputs": [
    {
     "name": "stdout",
     "output_type": "stream",
     "text": [
      "MySQL database connection successfull\n",
      "(103, 'Mike', 'Trousers', datetime.date(2021, 10, 15), 6, 45.0, '672527965852')\n"
     ]
    }
   ],
   "source": [
    "# check \n",
    "\n",
    "q8 = '''\n",
    "SELECT * FROM orders \n",
    "WHERE order_id = 103;\n",
    "'''\n",
    "\n",
    "connection = create_db_connection('localhost', 'root', pw, db)\n",
    "results = read_query(connection, q8)\n",
    "for result in results:\n",
    "    print(result)"
   ]
  },
  {
   "cell_type": "code",
   "execution_count": 31,
   "id": "c2eed363-c495-4b1e-b5df-ad8f97e792a6",
   "metadata": {},
   "outputs": [
    {
     "name": "stdout",
     "output_type": "stream",
     "text": [
      "MySQL database connection successfull\n",
      "Query was executed successfully\n"
     ]
    }
   ],
   "source": [
    "# Delete command\n",
    "\n",
    "delete_order = '''\n",
    "DELETE FROM orders\n",
    "WHERE order_id = 105\n",
    "'''\n",
    "\n",
    "connection = create_db_connection('localhost', 'root', pw, db)\n",
    "execute_query(connection, delete_order)"
   ]
  },
  {
   "cell_type": "code",
   "execution_count": 32,
   "id": "98d15a66-a560-41fb-bb35-adc6b84fbfa8",
   "metadata": {},
   "outputs": [
    {
     "name": "stdout",
     "output_type": "stream",
     "text": [
      "MySQL database connection successfull\n",
      "(101, 'Steve', 'Labptop', datetime.date(2021, 11, 17), 2, 800.0, '6238728802')\n",
      "(102, 'John', 'Books', datetime.date(2021, 11, 18), 5, 40.0, '345345345')\n",
      "(103, 'Mike', 'Trousers', datetime.date(2021, 10, 15), 6, 45.0, '672527965852')\n",
      "(104, 'Danny', 'T-shirt', datetime.date(2020, 11, 16), 7, 15.0, '25385454')\n"
     ]
    }
   ],
   "source": [
    "#check \n",
    "\n",
    "q9 = '''\n",
    "SELECT * FROM orders\n",
    "'''\n",
    "\n",
    "connection = create_db_connection('localhost', 'root', pw, db)\n",
    "results = read_query(connection, q9)\n",
    "for result in results:\n",
    "    print(result)"
   ]
  },
  {
   "cell_type": "code",
   "execution_count": null,
   "id": "4106a30b-9c37-4a08-9d7a-fa43f357599c",
   "metadata": {},
   "outputs": [],
   "source": []
  }
 ],
 "metadata": {
  "kernelspec": {
   "display_name": "Python 3",
   "language": "python",
   "name": "python3"
  },
  "language_info": {
   "codemirror_mode": {
    "name": "ipython",
    "version": 3
   },
   "file_extension": ".py",
   "mimetype": "text/x-python",
   "name": "python",
   "nbconvert_exporter": "python",
   "pygments_lexer": "ipython3",
   "version": "3.8.8"
  }
 },
 "nbformat": 4,
 "nbformat_minor": 5
}
