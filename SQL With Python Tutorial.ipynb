{
 "cells": [
  {
   "cell_type": "markdown",
   "id": "03f558d0",
   "metadata": {},
   "source": [
    "# SQL with Python Tutorial\n",
    "## link: https://www.youtube.com/watch?v=zrNHkRgWzTI"
   ]
  },
  {
   "cell_type": "code",
   "execution_count": 2,
   "id": "ee3b73ec",
   "metadata": {},
   "outputs": [],
   "source": [
    "# import libraries\n",
    "\n",
    "import mysql.connector\n",
    "from mysql.connector import Error\n",
    "import pandas as pd"
   ]
  },
  {
   "cell_type": "code",
   "execution_count": 3,
   "id": "50ccf5c1",
   "metadata": {},
   "outputs": [
    {
     "name": "stdout",
     "output_type": "stream",
     "text": [
      "MySQL Database connection successful.\n"
     ]
    }
   ],
   "source": [
    "def create_server_connection(host_name, user_name, user_password):\n",
    "    connection = None\n",
    "    try:\n",
    "        connection = mysql.connector.connect(\n",
    "            host = host_name,\n",
    "            user = user_name,\n",
    "            passwd = user_password\n",
    "        )\n",
    "        print('MySQL Database connection successful.')\n",
    "    except Error as err:\n",
    "        print(f\"Error:'{err}'\")\n",
    "    return connection\n",
    "\n",
    "# Put our MySQL Terminal password\n",
    "\n",
    "pw = 'Niyuanmike1'\n",
    "\n",
    "# Database name\n",
    "db = 'Nep_SQL_python'\n",
    "connection = create_server_connection('localhost', 'root', pw)"
   ]
  },
  {
   "cell_type": "code",
   "execution_count": 4,
   "id": "9b65beb0",
   "metadata": {},
   "outputs": [
    {
     "name": "stdout",
     "output_type": "stream",
     "text": [
      "Database create successfully.\n"
     ]
    }
   ],
   "source": [
    "# Create Database 'Nep_SQL_python'\n",
    "\n",
    "def create_database(connection, query):\n",
    "    cursor = connection.cursor()\n",
    "    try:\n",
    "        cursor.execute(query)\n",
    "        print('Database create successfully.')\n",
    "    except Error as err:\n",
    "        print(f\"Error: '{err}'\")\n",
    "\n",
    "create_database_query = 'Create database Nep_SQL_python'\n",
    "create_database(connection, create_database_query)"
   ]
  },
  {
   "cell_type": "code",
   "execution_count": null,
   "id": "7561fd0d-1995-44ef-a261-c679dc0b42e8",
   "metadata": {},
   "outputs": [],
   "source": []
  }
 ],
 "metadata": {
  "kernelspec": {
   "display_name": "Python 3",
   "language": "python",
   "name": "python3"
  },
  "language_info": {
   "codemirror_mode": {
    "name": "ipython",
    "version": 3
   },
   "file_extension": ".py",
   "mimetype": "text/x-python",
   "name": "python",
   "nbconvert_exporter": "python",
   "pygments_lexer": "ipython3",
   "version": "3.8.8"
  }
 },
 "nbformat": 4,
 "nbformat_minor": 5
}
