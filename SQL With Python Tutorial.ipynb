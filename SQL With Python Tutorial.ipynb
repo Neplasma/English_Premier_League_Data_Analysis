{
 "cells": [
  {
   "cell_type": "markdown",
   "id": "03f558d0",
   "metadata": {},
   "source": [
    "# SQL with Python Tutorial\n",
    "## link: https://www.youtube.com/watch?v=zrNHkRgWzTI"
   ]
  },
  {
   "cell_type": "code",
   "execution_count": 1,
   "id": "ee3b73ec",
   "metadata": {},
   "outputs": [],
   "source": [
    "# import libraries\n",
    "\n",
    "import mysql.connector\n",
    "from mysql.connector import Error\n",
    "import pandas as pd"
   ]
  },
  {
   "cell_type": "code",
   "execution_count": 9,
   "id": "50ccf5c1",
   "metadata": {},
   "outputs": [
    {
     "name": "stdout",
     "output_type": "stream",
     "text": [
      "MySQL Database connection successful.\n"
     ]
    }
   ],
   "source": [
    "def create_server_connection(host_name, user_name, user_password):\n",
    "    connection = None\n",
    "    try:\n",
    "        connection = mysql.connector.connect(\n",
    "            host = host_name,\n",
    "            user = user_name,\n",
    "            passwd = user_password\n",
    "        )\n",
    "        print('MySQL Database connection successful.')\n",
    "    except Error as err:\n",
    "        print(f\"Error:'{err}'\")\n",
    "    return connection\n",
    "\n",
    "# Put our MySQL Terminal password\n",
    "\n",
    "pw = 'Niyuanmike1'\n",
    "\n",
    "# Database name\n",
    "db = 'Nep_SQL_python'\n",
    "connection = create_server_connection('localhost', 'root', pw)"
   ]
  },
  {
   "cell_type": "code",
   "execution_count": 4,
   "id": "9b65beb0",
   "metadata": {},
   "outputs": [
    {
     "name": "stdout",
     "output_type": "stream",
     "text": [
      "Error: '1007 (HY000): Can't create database 'nep_sql_python'; database exists'\n"
     ]
    }
   ],
   "source": [
    "# Create Database 'Nep_SQL_python'\n",
    "\n",
    "def create_database(connection, query):\n",
    "    cursor = connection.cursor()\n",
    "    try:\n",
    "        cursor.execute(query)\n",
    "        print('Database create successfully.')\n",
    "    except Error as err:\n",
    "        print(f\"Error: '{err}'\")\n",
    "\n",
    "create_database_query = 'Create database Nep_SQL_python'\n",
    "create_database(connection, create_database_query)"
   ]
  },
  {
   "cell_type": "code",
   "execution_count": 13,
   "id": "7561fd0d-1995-44ef-a261-c679dc0b42e8",
   "metadata": {},
   "outputs": [],
   "source": [
    "# function for Connect to Database\n",
    "\n",
    "def create_db_connection(host_name, user_name, user_password, db_name):\n",
    "    connection = None\n",
    "    try:\n",
    "        connection = mysql.connector.connect(\n",
    "            host = host_name,\n",
    "            user = user_name,\n",
    "            passwd = user_password,\n",
    "            database = db_name\n",
    "        )\n",
    "        print('MySQL database connection successfull')\n",
    "    except Error as err:\n",
    "        print(f\"Error: '{err}'\")\n",
    "    return connection"
   ]
  },
  {
   "cell_type": "code",
   "execution_count": 16,
   "id": "1fbaa29f-0734-43bf-bcb9-db6137a1c52a",
   "metadata": {},
   "outputs": [],
   "source": [
    "# function for Execute SQL queries\n",
    "\n",
    "def execute_query(connection, query):\n",
    "    cursor = connection.cursor()\n",
    "    try:\n",
    "        cursor.execute(query)\n",
    "        connection.commit()\n",
    "        print('Query was executed successfully')\n",
    "    except Error as err:\n",
    "        print(f\"Error: '{err}'\")"
   ]
  },
  {
   "cell_type": "code",
   "execution_count": 17,
   "id": "c2f95189-49d8-4d67-b30f-ddd9fb2f353a",
   "metadata": {},
   "outputs": [
    {
     "name": "stdout",
     "output_type": "stream",
     "text": [
      "MySQL database connection successfull\n",
      "Query was executed successfully\n"
     ]
    }
   ],
   "source": [
    "# create table in database\n",
    "\n",
    "create_orders_table = '''\n",
    "create table orders(\n",
    "order_id INT PRIMARY KEY,\n",
    "customer_name VARCHAR(30) NOT NULL,\n",
    "product_name VARCHAR(20) NOT NULL,\n",
    "data_ordered DATE,\n",
    "quantity INT,\n",
    "unit_price FLOAT,\n",
    "phone_number VARCHAR(20));\n",
    "'''\n",
    "\n",
    "# connect to the database\n",
    "connection = create_db_connection('localhost', 'root', pw, db)\n",
    "execute_query(connection, create_orders_table)"
   ]
  },
  {
   "cell_type": "code",
   "execution_count": null,
   "id": "f43123f0-cfa9-4ea8-b59d-0b0a3ea3bc7c",
   "metadata": {},
   "outputs": [],
   "source": []
  }
 ],
 "metadata": {
  "kernelspec": {
   "display_name": "Python 3",
   "language": "python",
   "name": "python3"
  },
  "language_info": {
   "codemirror_mode": {
    "name": "ipython",
    "version": 3
   },
   "file_extension": ".py",
   "mimetype": "text/x-python",
   "name": "python",
   "nbconvert_exporter": "python",
   "pygments_lexer": "ipython3",
   "version": "3.8.8"
  }
 },
 "nbformat": 4,
 "nbformat_minor": 5
}
